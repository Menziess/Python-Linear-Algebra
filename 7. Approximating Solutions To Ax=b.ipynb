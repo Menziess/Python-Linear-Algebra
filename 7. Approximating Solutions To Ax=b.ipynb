{
  "cells": [
    {
      "metadata": {},
      "cell_type": "markdown",
      "source": "# 7. Approximating Solutions To Ax=b\n\n- []()"
    },
    {
      "metadata": {
        "trusted": true
      },
      "cell_type": "code",
      "source": "%pylab inline",
      "execution_count": 2,
      "outputs": [
        {
          "output_type": "stream",
          "text": "Populating the interactive namespace from numpy and matplotlib\n",
          "name": "stdout"
        }
      ]
    },
    {
      "metadata": {
        "collapsed": true
      },
      "cell_type": "markdown",
      "source": "## 3. Determining Whether Linear Systems Have Solutions\n\n$\n\\begin{bmatrix}\n1 & -2 & 4 \\\\\n1 & 0 & 0 \\\\\n1 & 2 & 4 \\\\\n\\end{bmatrix}\n$\n$\n\\begin{bmatrix}\n\\gamma_0 \\\\\n\\gamma_1 \\\\\n\\gamma_2 \\\\\n\\end{bmatrix}\n$\n$ =\n\\begin{bmatrix}\n-1 \\\\\n2 \\\\\n3 \\\\\n\\end{bmatrix}\n$"
    },
    {
      "metadata": {
        "trusted": true
      },
      "cell_type": "code",
      "source": "@todo\n# do Ax = b, and visualize column space of A to show that it has a solution\n\n# https://www.youtube.com/watch?v=8o5Cmfpeo6g&t=1123s",
      "execution_count": 1,
      "outputs": [
        {
          "output_type": "error",
          "ename": "SyntaxError",
          "evalue": "unexpected EOF while parsing (<ipython-input-1-2eacafbe5f25>, line 4)",
          "traceback": [
            "\u001b[0;36m  File \u001b[0;32m\"<ipython-input-1-2eacafbe5f25>\"\u001b[0;36m, line \u001b[0;32m4\u001b[0m\n\u001b[0;31m    # https://www.youtube.com/watch?v=8o5Cmfpeo6g&t=1123s\u001b[0m\n\u001b[0m                                                         ^\u001b[0m\n\u001b[0;31mSyntaxError\u001b[0m\u001b[0;31m:\u001b[0m unexpected EOF while parsing\n"
          ]
        }
      ]
    }
  ],
  "metadata": {
    "kernelspec": {
      "name": "python36",
      "display_name": "Python 3.6",
      "language": "python"
    },
    "language_info": {
      "mimetype": "text/x-python",
      "nbconvert_exporter": "python",
      "name": "python",
      "pygments_lexer": "ipython3",
      "version": "3.6.6",
      "file_extension": ".py",
      "codemirror_mode": {
        "version": 3,
        "name": "ipython"
      }
    }
  },
  "nbformat": 4,
  "nbformat_minor": 2
}