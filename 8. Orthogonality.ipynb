{
  "cells": [
    {
      "metadata": {
        "collapsed": true
      },
      "cell_type": "markdown",
      "source": "# 8. Orthogonality\n\n1. [Projection](#1.-Projection)\n1. [Rank-k Approximation](#2.-Rank-k-Approximation)"
    },
    {
      "metadata": {
        "trusted": true
      },
      "cell_type": "code",
      "source": "%pylab inline",
      "execution_count": 1,
      "outputs": [
        {
          "output_type": "stream",
          "text": "Populating the interactive namespace from numpy and matplotlib\n",
          "name": "stdout"
        }
      ]
    },
    {
      "metadata": {},
      "cell_type": "markdown",
      "source": "## 1. Projection $a(a^Ta)^{-1}a^Tb$\n\nThe vector $b$ can be projected onto the span of vector $a$. \n\n- $b=z+w$\n- Where $z = \\chi a$\n- We choose $w \\perp a$, so $a^Tw=0$\n- That gives us $a^T(b-z)=0$\n- Equals $a^T(b-\\chi a) = a^Tb - \\chi a^Ta=0$\n- What we get is something that looks like the normal equation, but for only one column $a^Ta\\chi=a^Tb$\n- We can solve $\\chi=a^Tb/a^Ta=(a^Ta)^{-1}a^Tb$\n- Finally, we know how to scale $a$ so that it reaches the point where $b$ would be projected: $z = a^Tb/a^Taa = aa^Tb/a^Ta=a(a^Ta)^{-1}a^Tb$"
    },
    {
      "metadata": {
        "trusted": true
      },
      "cell_type": "code",
      "source": "a, b = np.matrix(\"2.5; 1.5\"), np.matrix(\"5; -1\")\n\ndef projection(A):\n    \"\"\"Returns projection matrix that can be multiplied with any b\n    to get the projection of b onto C(A)\"\"\"\n    return A @ (A.T @ A).I @ A.T\n\nz = projection(a) @ b\nprint(z)",
      "execution_count": 2,
      "outputs": [
        {
          "output_type": "stream",
          "text": "[[3.23529412]\n [1.94117647]]\n",
          "name": "stdout"
        }
      ]
    },
    {
      "metadata": {},
      "cell_type": "markdown",
      "source": "Let's plot the following:\n- $a$, the vector that has to be scaled to the projection of $b$\n- $b$ which consists of $z$ and $w$"
    },
    {
      "metadata": {
        "trusted": true,
        "scrolled": true
      },
      "cell_type": "code",
      "source": "a, b, w, z = [np.array([x, y]) \n              for x, y \n              in [[2.5, 1.5], \n                  [5, -1], \n                  [1.76470588, -2.94117647],\n                  [3.23529412, 1.94117647]]]\n\nspan_a = ((x, (lambda x: x * a[1]/a[0])(x)) for x in np.linspace(-5, 11, 2))\n\nplt.quiver([0], [0], *zip(*[a, b, z]), angles = 'xy', scale_units = 'xy', scale = 1, color=['black', 'r', 'b'])\nplt.quiver(*zip(z), *zip(w), angles = 'xy', scale_units = 'xy', scale = 1)\nplt.plot(*zip(*span_a), color=\"black\", alpha=0.5)\nplt.text(2, -1.5, \"b\", color=\"r\")\nplt.text(2, 2.5, \"z = Xa\", color=\"b\")\nplt.text(-3, 0, \"span(a)\")\nplt.text(4.5, 1, \"w\")\nplt.text(1, 1.5, \"a\")\n\nplt.xlim(-5, 11)\nplt.ylim(-5, 7)\nplt.grid()",
      "execution_count": 3,
      "outputs": [
        {
          "output_type": "display_data",
          "data": {
            "image/png": "[encoded data removed]",
            "text/plain": "<matplotlib.figure.Figure at 0x7fe572975c18>"
          },
          "metadata": {}
        }
      ]
    },
    {
      "metadata": {},
      "cell_type": "markdown",
      "source": "Given vectors $a, b \\in \\mathbb{R}^m$, then:\n- $a(a^Ta)^{-1}a^T$ is the matrix that projects any $b$ onto the $span(\\{a\\})=\\mathcal{C}((a))$.\n- $I-a(a^Ta)^{-1}a^T$ is the matrix that projects any $b$ onto the $span(\\{a\\})^\\perp=\\mathcal{N}((a^T))$.\n\nLet $a=\n\\begin{pmatrix}\n1 \\\\\n0\n\\end{pmatrix}\n$ and $p_a(x), P_a^\\perp(x)$ be the projection of $x$ onto $span(\\{a\\}), span(\\{a\\})^\\perp$, respectively.\n\nWhat is the projections of $x = \n\\begin{pmatrix}\n4 \\\\\n2\n\\end{pmatrix}\n$?"
    },
    {
      "metadata": {
        "trusted": true
      },
      "cell_type": "code",
      "source": "# We've already defined the projection(A) function\n\ndef projection_perp(A):\n    \"\"\"Returns projection matrix that can be multiplied with any b\n    to get the projection of b onto N(A^T)\"\"\"\n    return np.identity(len(A)) - projection(A)",
      "execution_count": 4,
      "outputs": []
    },
    {
      "metadata": {
        "trusted": true
      },
      "cell_type": "code",
      "source": "x = np.matrix(\"4; 2\")\na = np.matrix(\"1; 0\")\n\nprint(projection(a) @ x, \"<4, 2> onto C((a))\")\nprint(projection_perp(a) @ x, \"<4, 2> onto N((a^T))\")",
      "execution_count": 6,
      "outputs": [
        {
          "output_type": "stream",
          "text": "[[4.]\n [0.]] <4, 2> onto C((a))\n[[0.]\n [2.]] <4, 2> onto N((a^T))\n",
          "name": "stdout"
        }
      ]
    },
    {
      "metadata": {},
      "cell_type": "markdown",
      "source": "Let $A,b=\n\\begin{pmatrix}\n1 & 1 \\\\\n1 & -1\\\\\n-2 & 4\n\\end{pmatrix}\n$$,\n\\begin{pmatrix}\n1 \\\\\n2 \\\\\n7\n\\end{pmatrix}\n$, then the projection of $b$ onto $\\mathcal{C}(A)$ and $\\mathcal{N}(A^T)$ is:"
    },
    {
      "metadata": {
        "trusted": true
      },
      "cell_type": "code",
      "source": "A = np.matrix(\"1 1; 1 -1; -2 4\")\nb = np.matrix(\"1; 2; 7\")\n\nprint(projection(A) @ b, \"<1, 2, 7> onto C(A)\")\nprint(projection_perp(A) @ b, \"<1, 2, 7> onto N(A^T)\")",
      "execution_count": 7,
      "outputs": [
        {
          "output_type": "stream",
          "text": "[[ 2.09090909]\n [-1.27272727]\n [ 5.90909091]] <1, 2, 7> onto C(A)\n[[-1.09090909]\n [ 3.27272727]\n [ 1.09090909]] <1, 2, 7> onto N(A^T)\n",
          "name": "stdout"
        }
      ]
    },
    {
      "metadata": {},
      "cell_type": "markdown",
      "source": "We can verify the answer by doing the calculation manually:\n\n$$A(A^TA)^{-1}A^Tb$$\n\n- $A^TA =\n\\begin{pmatrix}\n1 & 1\\\\\n1 & -1\\\\\n-2 & 4\n\\end{pmatrix}^T\n$ $\n\\begin{pmatrix}\n1 & 1\\\\\n1 & -1\\\\\n-2 & 4\n\\end{pmatrix}\n$ $=\n\\begin{pmatrix}\n6 & -8 \\\\\n-8 & 18\n\\end{pmatrix}\n$\n- $(A^TA)^{-1} = \\frac{1}{(6)(18)-(-8)(-8)}\n\\begin{pmatrix}\n18 & 8 \\\\\n8 & 6\n\\end{pmatrix}\n$ $=\\frac{1}{44}\n\\begin{pmatrix}\n18 & 8 \\\\\n8 & 6\n\\end{pmatrix}\n$\n- $A^Tb = \n\\begin{pmatrix}\n1 & 1\\\\\n1 & -1\\\\\n-2 & 4\n\\end{pmatrix}^T\n$ $\n\\begin{pmatrix}\n1 \\\\\n2 \\\\\n7\n\\end{pmatrix}\n$ $=\n\\begin{pmatrix}\n-11 \\\\\n27\n\\end{pmatrix}\n$\n- $(A^TA)^{-1}A^Tb = \\frac{1}{44}\n\\begin{pmatrix}\n18 & 8 \\\\\n8 & 6\n\\end{pmatrix}\n$ $\n\\begin{pmatrix}\n-11 \\\\\n27\n\\end{pmatrix}\n$ $= \\frac{1}{44}\n\\begin{pmatrix}\n18 \\\\\n74\n\\end{pmatrix}\n$\n- $A(A^TA)^{-1}A^Tb =\n\\frac{1}{44}\n\\begin{pmatrix}\n1 & 1\\\\\n1 & -1\\\\\n-2 & 4\n\\end{pmatrix}\n$ $\n\\begin{pmatrix}\n18\\\\\n74\n\\end{pmatrix}\n$ $ = \\frac{1}{44}\n\\begin{pmatrix}\n92 \\\\\n-56 \\\\\n260\n\\end{pmatrix}\n$"
    },
    {
      "metadata": {},
      "cell_type": "markdown",
      "source": "## 2. Rank-k Approximation\n\nLow-rank approximation is a minimization problem, in which the cost function measures the fit between a given matrix (the data) and an approximating matrix (the optimization variable). It is used in mathematical modelling and data compression.\n\nGiven $a \\in \\mathbb{R}^m$ and $B\\in \\mathbb{R}^{m\\times n}$, then:\n- $B \\approx ay^T$, where $y=(a^Ta)^{-1}B^Ta$\n- Each column of $ay^T$ equals the projection of the corresponding column of $B$ onto $span(a)$\n- This is known as the rank-1 approximation of $B$\n- It is not necessarily the best rank-1 approximation"
    },
    {
      "metadata": {
        "trusted": true
      },
      "cell_type": "code",
      "source": "",
      "execution_count": null,
      "outputs": []
    }
  ],
  "metadata": {
    "kernelspec": {
      "name": "python36",
      "display_name": "Python 3.6",
      "language": "python"
    },
    "language_info": {
      "mimetype": "text/x-python",
      "nbconvert_exporter": "python",
      "name": "python",
      "pygments_lexer": "ipython3",
      "version": "3.6.6",
      "file_extension": ".py",
      "codemirror_mode": {
        "version": 3,
        "name": "ipython"
      }
    }
  },
  "nbformat": 4,
  "nbformat_minor": 2
}