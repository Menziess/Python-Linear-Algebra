{
 "cells": [
  {
   "cell_type": "markdown",
   "metadata": {
    "collapsed": true
   },
   "source": [
    "# 4. Gaussian Elimination\n",
    "\n",
    "A basic understanding of python and numpy arrays is useful for understanding the code snippets.\n",
    "\n",
    "1. [Basics](#1.-Basics)\n",
    "1. [Solving A Linear System](#2.-Solving-A-Linear-System)\n",
    "1. [LU Factorization](#3.-LU-Factorization)\n",
    "1. [Solving Ax = b](#3.-Solving-Ax-=-b)"
   ]
  },
  {
   "cell_type": "code",
   "execution_count": 1,
   "metadata": {},
   "outputs": [
    {
     "name": "stdout",
     "output_type": "stream",
     "text": [
      "Populating the interactive namespace from numpy and matplotlib\n"
     ]
    }
   ],
   "source": [
    "%pylab inline"
   ]
  },
  {
   "cell_type": "markdown",
   "metadata": {},
   "source": [
    "## 1. Basics\n",
    "\n",
    "In mathematics, a **system of linear equations** is a collection of two or more linear equations involving the same set of variables. For example:\n",
    "\n",
    "$\n",
    "\\begin{array}{}\n",
    "3x & + & 2y & - & z & = & 1 \\\\\n",
    "2x & - & 2y & + & 4z & = & -2 \\\\\n",
    "-x & + & \\frac{1}{2}y & - & z & = & 0\n",
    "\\end{array}\n",
    "$\n",
    "\n",
    "![](https://notebooks.azure.com/menziess/libraries/Python-Linear-Algebra/raw/res%2FLinear_system.png)\n",
    "A linear system in three variables determines a collection of planes. The intersection point is the solution.\n",
    "\n",
    "$\n",
    "\\begin{array}{}\n",
    "x & = & 1 \\\\\n",
    "y & = & -2 \\\\\n",
    "z & = & -2\n",
    "\\end{array}\n",
    "$\n",
    "\n",
    "Such a system of linear equations can be written as:\n",
    "\n",
    "$\n",
    "a_{11}x_1 + a_{12}x_2 + \\cdots + a_{1n}x_n = b_1 \\\\\n",
    "a_{21}x_1 + a_{22}x_2 + \\cdots + a_{2n}x_n = b_2 \\\\\n",
    "\\qquad\\vdots\\qquad\\vdots\\\\\n",
    "a_{m1}x_1 + a_{m2}x_2 + \\cdots + a_{mn}x_n = b_m \\\\\n",
    "$\n",
    "\n",
    "Which can be expressed as a matrix vector multiplication $Ax = b$.\n",
    "\n",
    "### 1.1 Methods For Solving A Linear System\n",
    "\n",
    "There are several methods for solving a linear system:\n",
    "\n",
    "- Describing the Solution\n",
    "- Elimination of Variables\n",
    "- Gaussian Elimination (or Row Reduction)\n",
    "- Cramer's Rule\n",
    "- Matrix Solution ($x = A^{-1}b$)\n",
    "\n",
    "In Gaussian Elimination, the linear system is represented as an augmented matrix with a row for each variable:\n",
    "\n",
    "$$\n",
    "\\left[\n",
    "\\begin{array}{ccc|c}\n",
    "3 & 2 & -1 & 1 \\\\\n",
    "2 & -2 & 4 & -2 \\\\\n",
    "-1 & 0.5 & -1 & 0\n",
    "\\end{array}\n",
    "\\right]\n",
    "$$\n",
    "\n",
    "### 1.2 Types of Elementary Row Operations\n",
    "\n",
    "The augmented matrix is then modified the following **three types of elementary row operations** until it reaches **reduced row echelon form**:\n",
    "\n",
    "1. Swap the positions of two rows.\n",
    "2. Multiply a row by a nonzero scalar.\n",
    "3. Add to one row a scalar multiple of another.\n",
    "\n",
    "### 1.3 Reduced Row Echelon Form\n",
    "\n",
    "Row Echelon Form:\n",
    "- all nonzero rows are above any rows of all zeroes\n",
    "- a leading coefficient (pivot) is strictly to the right of the leading coefficient of the row above\n",
    "\n",
    "Reduced Row Echelon Form:\n",
    "- the matrix is in row echelon form\n",
    "- every leading coefficient is 1 and is the only nonzero entry in its column"
   ]
  },
  {
   "cell_type": "markdown",
   "metadata": {},
   "source": [
    "## 2. Solving A Linear System\n",
    "\n",
    "First, we move the bottom row to the top and we multiply it by -1, because it has a leading coefficient that is conveniently one:\n",
    "\n",
    "$\n",
    "\\left[\n",
    "\\begin{array}{ccc|c}\n",
    "3 & 2 & -1 & 1 \\\\\n",
    "2 & -2 & 4 & -2 \\\\\n",
    "-1 & 0.5 & -1 & 0\n",
    "\\end{array}\n",
    "\\right]\n",
    "\\rightarrow$ \n",
    "$\n",
    "\\left[\n",
    "\\begin{array}{ccc|c}\n",
    "1 & -0.5 & 1 & 0 \\\\\n",
    "2 & -2 & 4 & -2 \\\\\n",
    "3 & 2 & -1 & 1 \\\\\n",
    "\\end{array}\n",
    "\\right]\n",
    "\\rightarrow$\n",
    "\n",
    "Second row, minus two times first row, and third row minus three times first row:\n",
    "\n",
    "$\n",
    "\\left[\n",
    "\\begin{array}{ccc|c}\n",
    "1 & -0.5 & 1 & 0 \\\\\n",
    "0 & -1 & 2 & -2 \\\\\n",
    "0 & 3.5 & -4 & 1 \\\\\n",
    "\\end{array}\n",
    "\\right]\n",
    "\\rightarrow$\n",
    "\n",
    "Multiply second row with -1 so that the leading coefficient is one, then add half times row two to row one:\n",
    "\n",
    "$\n",
    "\\left[\n",
    "\\begin{array}{ccc|c}\n",
    "1 & -0.5 & 1 & 0 \\\\\n",
    "0 & 1 & -2 & 2 \\\\\n",
    "0 & 3.5 & -4 & 1 \\\\\n",
    "\\end{array}\n",
    "\\right]\n",
    "\\rightarrow$\n",
    "$\n",
    "\\left[\n",
    "\\begin{array}{ccc|c}\n",
    "1 & 0 & 0 & 1 \\\\\n",
    "0 & 1 & -2 & 2 \\\\\n",
    "0 & 3.5 & -4 & 1 \\\\\n",
    "\\end{array}\n",
    "\\right]\n",
    "\\rightarrow$\n",
    "\n",
    "Then subtract 3.5 times row two from row three, then divide row three by 3:\n",
    "\n",
    "$\n",
    "\\left[\n",
    "\\begin{array}{ccc|c}\n",
    "1 & 0 & 0 & 1 \\\\\n",
    "0 & 1 & -2 & 2 \\\\\n",
    "0 & 0 & 3 & -6 \\\\\n",
    "\\end{array}\n",
    "\\right]\n",
    "\\rightarrow$\n",
    "$\n",
    "\\left[\n",
    "\\begin{array}{ccc|c}\n",
    "1 & 0 & 0 & 1 \\\\\n",
    "0 & 1 & -2 & 2 \\\\\n",
    "0 & 0 & 1 & -2 \\\\\n",
    "\\end{array}\n",
    "\\right]\n",
    "\\rightarrow$\n",
    "\n",
    "Notice how both matrices are in **row echelon form**. Finally we add two times row three to row two to get the resulting matrix in **reduced row echelon form**:\n",
    "\n",
    "$\n",
    "\\left[\n",
    "\\begin{array}{ccc|c}\n",
    "1 & 0 & 0 & 1 \\\\\n",
    "0 & 1 & 0 & -2 \\\\\n",
    "0 & 0 & 1 & -2 \\\\\n",
    "\\end{array}\n",
    "\\right]$\n",
    "\n",
    "The variables are:\n",
    "\n",
    "$\n",
    "\\begin{array}{}\n",
    "x & = & 1 \\\\\n",
    "y & = & -2 \\\\\n",
    "z & = & -2\n",
    "\\end{array}\n",
    "$\n",
    "\n",
    "We can verify whether our answer is correct by substituting the variables:\n",
    "\n",
    "$\n",
    "\\begin{array}{}\n",
    "3x & + & 2y & - & z & = & 1 \\\\\n",
    "2x & - & 2y & + & 4z & = & -2 \\\\\n",
    "-x & + & \\frac{1}{2}y & - & z & = & 0\n",
    "\\end{array}\n",
    "$\n",
    "\n",
    "$\n",
    "\\begin{array}{}\n",
    "3 & + & 2 * (-2) & - & (-2) & = & 1 \\\\\n",
    "2 & - & 2 * (-2) & + & 4 * (-2) & = & -2 \\\\\n",
    "-1 & + & 0.5 * (-2) & - & (-2) & = & 0\n",
    "\\end{array}\n",
    "$"
   ]
  },
  {
   "cell_type": "markdown",
   "metadata": {},
   "source": [
    "## 3. LU Factorization\n",
    "\n",
    "LU factorization is used for solving linear systems. $LU$ (lower-upper) decomposition or factorization factors a matrix as the product of a lower triangular $L$ that stores the reverse order of gaussian elimination steps, and an upper triangular $U$ matrix. Since $L$ is a unit lower triangular, its diagonal needs not be stored.\n",
    "\n",
    "Find an LU decomposition for the matrix \n",
    "$A = \\left[\n",
    "\\begin{array}{}\n",
    "2 & 1 \\\\\n",
    "8 & 7\\\\\n",
    "\\end{array}\n",
    "\\right]$\n",
    "\n",
    "We use gaussian elimination to get a row equivalent of $A$ that is upper triangular, depicting it as a matrix multiplication of an elimination matrix $E$ with $A$:\n",
    "\n",
    "$U =\n",
    "\\left[\n",
    "\\begin{array}{}\n",
    "1 & 0 \\\\\n",
    "4 & 1\\\\\n",
    "\\end{array}\n",
    "\\right]\n",
    "\\left[\n",
    "\\begin{array}{}\n",
    "2 & 1 \\\\\n",
    "8 & 7\\\\\n",
    "\\end{array}\n",
    "\\right]\n",
    "=\n",
    "\\left[\n",
    "\\begin{array}{}\n",
    "2 & 1 \\\\\n",
    "0 & 3\\\\\n",
    "\\end{array}\n",
    "\\right]\n",
    "$\n",
    "\n",
    "The operation was:\n",
    "\n",
    "$L =\n",
    "\\left[\n",
    "\\begin{array}{}\n",
    "1 & 0 \\\\\n",
    "4 & 1\\\\\n",
    "\\end{array}\n",
    "\\right]\n",
    "$\n",
    "\n",
    "Now the $LU$ decomposition of $A$ is:\n",
    "\n",
    "$A = \n",
    "\\left[\n",
    "\\begin{array}{}\n",
    "2 & 1 \\\\\n",
    "8 & 7\\\\\n",
    "\\end{array}\n",
    "\\right]\n",
    "=\n",
    "\\left[\n",
    "\\begin{array}{}\n",
    "1 & 0 \\\\\n",
    "4 & 1\\\\\n",
    "\\end{array}\n",
    "\\right]\n",
    "\\left[\n",
    "\\begin{array}{}\n",
    "2 & 1 \\\\\n",
    "0 & 3\\\\\n",
    "\\end{array}\n",
    "\\right]\n",
    "= LU\n",
    "$"
   ]
  },
  {
   "cell_type": "code",
   "execution_count": 2,
   "metadata": {},
   "outputs": [],
   "source": [
    "def LU_factorize(A):\n",
    "    \n",
    "    # Copy matrix\n",
    "    LU = A.copy()\n",
    "    nr_cols = LU.shape[1]\n",
    "    \n",
    "    # Loop over all columns, except the last one\n",
    "    for i in range(nr_cols - 1):\n",
    "        # Get leading coefficient to divide following rows\n",
    "        alpha = LU[i, i]\n",
    "        # Replace components with the elimination coefficient\n",
    "        LU[i + 1:, i] = LU[i + 1:, i] / alpha\n",
    "        # Calculate the outer product and subtract it from the rest of the matrix\n",
    "        LU[i + 1:, i + 1:] = LU[i + 1:, i + 1:] - LU[i + 1:, i] @ LU[i, 1 + i:]        \n",
    "        \n",
    "    return np.tril(LU, -1) + np.identity(nr_cols), np.triu(LU)"
   ]
  },
  {
   "cell_type": "code",
   "execution_count": 3,
   "metadata": {
    "scrolled": true
   },
   "outputs": [
    {
     "name": "stdout",
     "output_type": "stream",
     "text": [
      "[[2 1]\n",
      " [8 7]] Matrix A \n",
      "\n",
      "[[1. 0.]\n",
      " [4. 1.]] Unit lower matrix L \n",
      "\n",
      "[[2 1]\n",
      " [0 3]] Upper matrix U \n",
      "\n"
     ]
    }
   ],
   "source": [
    "A = np.matrix(\"2 1; 8 7\")\n",
    "L, U = LU_factorize(A)\n",
    "\n",
    "print(A, \"Matrix A\", \"\\n\")\n",
    "print(L, \"Unit lower matrix L\", \"\\n\")\n",
    "print(U, \"Upper matrix U\", \"\\n\")"
   ]
  },
  {
   "cell_type": "markdown",
   "metadata": {},
   "source": [
    "## 4. Solving Ax = b\n",
    "\n",
    "Solving $Ax = b$ where $x$ is a vector of variables is hard. It's easier when $A$ is an upper or lower triangular system. That's where LU factorization comes in.\n",
    "\n",
    "Lets find the solution for\n",
    "$\n",
    "x = \\left[\\begin{array}{}\n",
    "\\chi_0 \\\\\n",
    "\\chi_1 \\\\\n",
    "\\chi_2 \\\\\n",
    "\\end{array}\n",
    "\\right]\n",
    "$\n",
    "of the system\n",
    "$\n",
    "\\left[\\begin{array}{}\n",
    "1 & 2 & 4 \\\\\n",
    "3 & 8 & 14 \\\\\n",
    "2 & 6 & 13 \\\\\n",
    "\\end{array}\n",
    "\\right]\n",
    "\\left[\\begin{array}{}\n",
    "\\chi_0 \\\\\n",
    "\\chi_1 \\\\\n",
    "\\chi_2 \\\\\n",
    "\\end{array}\n",
    "\\right]\n",
    "= \\left[\\begin{array}{}\n",
    "3 \\\\\n",
    "13 \\\\\n",
    "4 \\\\\n",
    "\\end{array}\n",
    "\\right]\n",
    "$"
   ]
  },
  {
   "cell_type": "code",
   "execution_count": 4,
   "metadata": {
    "scrolled": true
   },
   "outputs": [
    {
     "name": "stdout",
     "output_type": "stream",
     "text": [
      "[[ 1  2  4]\n",
      " [ 3  8 14]\n",
      " [ 2  6 13]] ['?' '?' '?'] = [ 3 13  4]\n"
     ]
    }
   ],
   "source": [
    "A = np.matrix(\"1 2 4; 3 8 14; 2 6 13\")\n",
    "x = np.array(['?', '?', '?'])\n",
    "b = np.array([3, 13, 4])\n",
    "print(A, x, '=', b)"
   ]
  },
  {
   "cell_type": "markdown",
   "metadata": {},
   "source": [
    "### 4.1 LU factorization\n",
    "\n",
    "We want to solve $Ax = b$, we can start by factoring $A$ into $LU$, giving us $LUx = b$."
   ]
  },
  {
   "cell_type": "code",
   "execution_count": 5,
   "metadata": {},
   "outputs": [
    {
     "name": "stdout",
     "output_type": "stream",
     "text": [
      "[[1. 0. 0.]\n",
      " [3. 1. 0.]\n",
      " [2. 1. 1.]] \n",
      "\n",
      "[[1 2 4]\n",
      " [0 2 2]\n",
      " [0 0 3]] \n",
      "\n",
      "[[ 1.  2.  4.]\n",
      " [ 3.  8. 14.]\n",
      " [ 2.  6. 13.]] ['?' '?' '?'] = [ 3 13  4]\n"
     ]
    }
   ],
   "source": [
    "L, U = LU_factorize(A)\n",
    "print(L, '\\n')\n",
    "print(U, '\\n')\n",
    "print(L @ U, x, '=', b)"
   ]
  },
  {
   "cell_type": "markdown",
   "metadata": {},
   "source": [
    "### 4.2 Forward Substitution\n",
    "\n",
    "We know that $LUx = b$. Let $y = Ux$, then we can solve $Ly = b$ to find $y$."
   ]
  },
  {
   "cell_type": "code",
   "execution_count": 6,
   "metadata": {},
   "outputs": [],
   "source": [
    "def LU_forward_substitution(L, b):\n",
    "    \n",
    "    # Copy vector\n",
    "    y = b.copy()\n",
    "    \n",
    "    # Calculate y, where we apply the elimination steps in L to b\n",
    "    for i in range(len(y)):\n",
    "        y[i + 1:] = y[i + 1:] - y[i] * L[i + 1:, i]\n",
    "    \n",
    "    return y"
   ]
  },
  {
   "cell_type": "code",
   "execution_count": 7,
   "metadata": {
    "scrolled": true
   },
   "outputs": [
    {
     "name": "stdout",
     "output_type": "stream",
     "text": [
      "[ 3  4 -6]\n"
     ]
    }
   ],
   "source": [
    "# Step 2 - Solving Ly = b to find y\n",
    "y = LU_forward_substitution(L, b)\n",
    "print(y)"
   ]
  },
  {
   "cell_type": "markdown",
   "metadata": {},
   "source": [
    "### 4.3 Backward Substitution\n",
    "\n",
    "Now that we know $y$, we can solve $Ux = y$ to find $x$, and we're done."
   ]
  },
  {
   "cell_type": "code",
   "execution_count": 8,
   "metadata": {},
   "outputs": [],
   "source": [
    "def LU_back_substitution(U, b):\n",
    "\n",
    "    # Copy vector\n",
    "    x = b.copy()\n",
    "    \n",
    "    # Calculate x, starting at the bottom\n",
    "    for i in reversed(range(len(x))):\n",
    "        \n",
    "        # The current row in U contains the coefficients of the variables\n",
    "        # The bottom part of b contains the values of the variables\n",
    "        # The current index of b is the coefficient x each corresponding variable\n",
    "        # Finally this must be divided by the leading coefficient\n",
    "        x[i] = x[i] - U[i, i + 1:] @ x[i + 1:]\n",
    "        x[i] = x[i] / U[i, i]\n",
    "\n",
    "    return x"
   ]
  },
  {
   "cell_type": "code",
   "execution_count": 9,
   "metadata": {},
   "outputs": [
    {
     "name": "stdout",
     "output_type": "stream",
     "text": [
      "[[ 1  2  4]\n",
      " [ 3  8 14]\n",
      " [ 2  6 13]] \n",
      "\n",
      "[ 3  4 -2] \n",
      "\n",
      "[[ 3 13  4]]\n"
     ]
    }
   ],
   "source": [
    "x = LU_back_substitution(U, y)\n",
    "print(A, '\\n')\n",
    "print(x, '\\n')\n",
    "print(A.dot(x))"
   ]
  },
  {
   "cell_type": "markdown",
   "metadata": {},
   "source": [
    "So, $x =\n",
    "\\left[\\begin{array}{}\n",
    "3 \\\\\n",
    "4 \\\\\n",
    "-2 \\\\\n",
    "\\end{array}\n",
    "\\right]\n",
    "$."
   ]
  }
 ],
 "metadata": {
  "kernelspec": {
   "display_name": "Python 3.6",
   "language": "python",
   "name": "python36"
  },
  "language_info": {
   "codemirror_mode": {
    "name": "ipython",
    "version": 3
   },
   "file_extension": ".py",
   "mimetype": "text/x-python",
   "name": "python",
   "nbconvert_exporter": "python",
   "pygments_lexer": "ipython3",
   "version": "3.6.6"
  }
 },
 "nbformat": 4,
 "nbformat_minor": 2
}
